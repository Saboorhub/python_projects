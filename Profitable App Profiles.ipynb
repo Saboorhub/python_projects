{
 "cells": [
  {
   "cell_type": "markdown",
   "metadata": {},
   "source": [
    "# Profitable App Profiles for the App Store and Google Play Markets\n",
    "\n",
    "Our aim in this project is to find app profiles that are profitable for the company. We are working as Data Analysts for a company that builds apps for the Android and Apple OS users. We make these apps available on both the Apple Store and Google Play. \n",
    "\n",
    "Our apps are free to download and install. The main source of revenue is in-app advertising. So the the revenue is strongly influenced by the number of users that user our app. Our goal in this project is to analyze data to help our app developers understand what kinds of apps attract more users. \n"
   ]
  },
  {
   "cell_type": "markdown",
   "metadata": {},
   "source": [
    "## Opening and Exploring the Data\n",
    "As of September 2018, there were approximately 2 million iOS apps available on the App Store, and 2.1 million Android apps on Google Play. Collecting data for over 4 million apps require a significant amount of time and money, so we instead will analyze a sample of the data. We have the following two data sets at our disposal: \n",
    "\n",
    "    - A data set containing data about approximately 10,000 Android apps from Google Play; the data was collected\n",
    "    in August 2018.\n",
    "    - A data set containing data about approximately 7,000 iOS apps from the App Store; the data was collected in\n",
    "    July 2017. \n",
    "    \n",
    "\n",
    "Let us start opening and exploring the two data sets. \n",
    "    \n",
    "\n"
   ]
  },
  {
   "cell_type": "code",
   "execution_count": 148,
   "metadata": {},
   "outputs": [],
   "source": [
    "from collections import Counter, deque"
   ]
  },
  {
   "cell_type": "code",
   "execution_count": 2,
   "metadata": {},
   "outputs": [],
   "source": [
    "# import csv\n",
    "from csv import reader\n",
    "# we will first read the two files and create lists of data\n",
    "files = ['data_files/profitable_apps/AppleStore.csv', 'data_files/profitable_apps/googleplaystore.csv']\n",
    "\n",
    "def read_csv(csvfile):\n",
    "    with open(csvfile, \"r\") as f:\n",
    "        read_file = reader(f)\n",
    "        return list(read_file)\n",
    "        \n",
    "ios = read_csv(files[0])\n",
    "android = read_csv(files[1])\n",
    "\n",
    "ios_header = ios[0]\n",
    "android_header = android[0]\n",
    "\n",
    "ios = ios[1:]\n",
    "android = android[1:]"
   ]
  },
  {
   "cell_type": "code",
   "execution_count": 3,
   "metadata": {},
   "outputs": [],
   "source": [
    "# create explore_data() function to read some important data about the datasets\n",
    "def explore_data(dataset, start, end, rows_and_columns=False):\n",
    "    dataset_slice = dataset[start:end]\n",
    "    for row in dataset_slice:\n",
    "        print (row)\n",
    "        print (\"\\n\")\n",
    "    \n",
    "    if rows_and_columns:\n",
    "        print (\"Number of rows:\", len(dataset))\n",
    "        print (\"Number of columns:\", len(dataset[0]))"
   ]
  },
  {
   "cell_type": "code",
   "execution_count": 4,
   "metadata": {},
   "outputs": [
    {
     "name": "stdout",
     "output_type": "stream",
     "text": [
      "['Coloring book moana', 'ART_AND_DESIGN', '3.9', '967', '14M', '500,000+', 'Free', '0', 'Everyone', 'Art & Design;Pretend Play', 'January 15, 2018', '2.0.0', '4.0.3 and up']\n",
      "\n",
      "\n",
      "['U Launcher Lite – FREE Live Cool Themes, Hide Apps', 'ART_AND_DESIGN', '4.7', '87510', '8.7M', '5,000,000+', 'Free', '0', 'Everyone', 'Art & Design', 'August 1, 2018', '1.2.4', '4.0.3 and up']\n",
      "\n",
      "\n",
      "['Sketch - Draw & Paint', 'ART_AND_DESIGN', '4.5', '215644', '25M', '50,000,000+', 'Free', '0', 'Teen', 'Art & Design', 'June 8, 2018', 'Varies with device', '4.2 and up']\n",
      "\n",
      "\n",
      "['Pixel Draw - Number Art Coloring Book', 'ART_AND_DESIGN', '4.3', '967', '2.8M', '100,000+', 'Free', '0', 'Everyone', 'Art & Design;Creativity', 'June 20, 2018', '1.1', '4.4 and up']\n",
      "\n",
      "\n"
     ]
    }
   ],
   "source": [
    "explore_data(android, 1, 5, False)"
   ]
  },
  {
   "cell_type": "markdown",
   "metadata": {},
   "source": [
    "#### Let us look at the data. "
   ]
  },
  {
   "cell_type": "code",
   "execution_count": 5,
   "metadata": {},
   "outputs": [
    {
     "name": "stdout",
     "output_type": "stream",
     "text": [
      "There are a total of 13 columns and 10841 rows in the android data set. And the columns are: \n",
      "\n",
      "['App', 'Category', 'Rating', 'Reviews', 'Size', 'Installs', 'Type', 'Price', 'Content Rating', 'Genres', 'Last Updated', 'Current Ver', 'Android Ver']\n",
      "\n",
      "\n",
      "\n",
      "There are a total of 16 columns and 7197 rows in the ios data set. And the columns are: \n",
      "\n",
      "['id', 'track_name', 'size_bytes', 'currency', 'price', 'rating_count_tot', 'rating_count_ver', 'user_rating', 'user_rating_ver', 'ver', 'cont_rating', 'prime_genre', 'sup_devices.num', 'ipadSc_urls.num', 'lang.num', 'vpp_lic']\n"
     ]
    }
   ],
   "source": [
    "## let us look at how many and what columns there are.\n",
    "print (\"There are a total of {} columns and {} rows in the android data set. And the columns are: \\n\".format(len(android[0]), len(android)))\n",
    "print (android_header)\n",
    "print (\"{}\".format(2*\"\\n\"))\n",
    "print (\"There are a total of {} columns and {} rows in the ios data set. And the columns are: \\n\".format(len(ios[0]), len(ios)))\n",
    "print (ios_header)"
   ]
  },
  {
   "cell_type": "markdown",
   "metadata": {},
   "source": [
    "#### Columns to Consider:\n",
    "\n",
    "    - the number of users using the app\n",
    "    - type of the app (if it is free or not) type\n",
    "    - what age group is the app for? rating\n",
    "    - does the app have a one-time fee or not?, subscription\n",
    "    - how popular is the app?, reviews for the app\n",
    "    - will consider only English-speaking apps.\n",
    " "
   ]
  },
  {
   "cell_type": "markdown",
   "metadata": {},
   "source": [
    "### Data Cleaning"
   ]
  },
  {
   "cell_type": "markdown",
   "metadata": {},
   "source": [
    "In this step, we are going to clean the data a little bit to prepare it for further analysis. It is said that Data Scientists spend 80% of their time cleaning the bad data and only 20% of their time analyzing the data after it has been cleaned. We will be spending some time doing some cleaning. \n",
    "\n",
    "1. remove duplicate records - if there are any dupes, we are going to remove them. \n",
    "2. remove non-free apps - since we will be analysing free apps, we will remove the non-free apps.\n",
    "3. remove non-English-speaking apps - we are going to remove apps that are aimed non-English-speaking users.\n",
    "4. remove any other discrepancies in the data. \n",
    "5. check that there is value for every column"
   ]
  },
  {
   "cell_type": "markdown",
   "metadata": {},
   "source": [
    "#### checking if there is a value for every column"
   ]
  },
  {
   "cell_type": "code",
   "execution_count": 40,
   "metadata": {},
   "outputs": [],
   "source": [
    "def compare_col_to_row(col, app_list):\n",
    "    for idx, app in enumerate(app_list):\n",
    "        if len(col) != len(app):\n",
    "            return app, idx\n"
   ]
  },
  {
   "cell_type": "code",
   "execution_count": null,
   "metadata": {},
   "outputs": [],
   "source": [
    "# check if there all the columnar data is available for all the apps. \n",
    "# check android first\n",
    "print (compare_col_to_row(android_header, android))\n",
    "# it seems that the we have a record that is problematic. We need to delete that record as per dataquest.\n",
    "\n",
    "## let us find the index of the record. \n",
    "the_ind = 0\n",
    "for idx, app in enumerate(android):\n",
    "    if app[0].startswith('Life Made'):\n",
    "        the_ind = idx"
   ]
  },
  {
   "cell_type": "code",
   "execution_count": 59,
   "metadata": {},
   "outputs": [],
   "source": [
    "## now let us delete this app at the index stored in the_ind, do not run this cell\n",
    "del android[the_ind]"
   ]
  },
  {
   "cell_type": "code",
   "execution_count": 60,
   "metadata": {},
   "outputs": [
    {
     "name": "stdout",
     "output_type": "stream",
     "text": [
      "None\n"
     ]
    }
   ],
   "source": [
    "# let us run this method again\n",
    "print (compare_col_to_row(android_header, android))"
   ]
  },
  {
   "cell_type": "code",
   "execution_count": 61,
   "metadata": {},
   "outputs": [
    {
     "name": "stdout",
     "output_type": "stream",
     "text": [
      "None\n"
     ]
    }
   ],
   "source": [
    "# check the ios data \n",
    "print (compare_col_to_row(ios_header, ios))"
   ]
  },
  {
   "cell_type": "markdown",
   "metadata": {},
   "source": [
    "#### removing duplicates, non-English-speaking apps and non-free apps"
   ]
  },
  {
   "cell_type": "code",
   "execution_count": 405,
   "metadata": {},
   "outputs": [],
   "source": [
    "# we see that the android_unique does not have a column that shows the language so we have to invent the wheel.\n",
    "# so we can use the isascii string function\n",
    "\n",
    "## let us define a class which we can use to do many things. \n",
    "\n",
    "class CleanUp:\n",
    "    def __init__(self, arr):\n",
    "        self.apps = arr\n",
    "    \n",
    "    def remove_duplicates(self):\n",
    "        unique_app_names = deque() # we are going to use app_names to store unique app names \n",
    "        unique_apps = deque()\n",
    "        duplicate_apps = []\n",
    "        for app in self.apps:\n",
    "            name = app[0]\n",
    "            if name not in unique_app_names:\n",
    "                unique_app_names.append(name)\n",
    "                unique_apps.append(app)\n",
    "            else:\n",
    "                duplicate_apps.append(name)\n",
    "        return unique_apps, duplicate_apps\n",
    "    \n",
    "    def remove_non_english(self):\n",
    "        self.apps = CleanUp.remove_duplicates(self)[0]\n",
    "        english_only = deque()\n",
    "        for app in self.apps:\n",
    "            if app[0].isascii():\n",
    "                english_only.append(app)\n",
    "        return english_only\n",
    "    \n",
    "    def remove_not_free(self, android=True):\n",
    "        self.apps = CleanUp.remove_non_english(self)\n",
    "        free_apps = deque()\n",
    "        for app in self.apps:\n",
    "            if not android:\n",
    "                if float(app[4]) <= 0:\n",
    "                    free_apps.append(app)\n",
    "            else:\n",
    "                if app[6] == 'Free':\n",
    "                    free_apps.append(app)\n",
    "        return free_apps\n",
    "            \n",
    "    \n",
    "android_ins = CleanUp(android)\n",
    "ios_ins = CleanUp(ios)"
   ]
  },
  {
   "cell_type": "code",
   "execution_count": 406,
   "metadata": {},
   "outputs": [],
   "source": [
    "# so we have removed the duplicates and kept english_only apps\n",
    "and_unique = android_ins.remove_duplicates()[0]\n",
    "and_dupe_apps = android_ins.remove_duplicates()[1]\n",
    "ios_unique = ios_ins.remove_duplicates()[0]\n",
    "ios_dupe_apps = ios_ins.remove_duplicates()[1]\n",
    "and_eng_only = android_ins.remove_non_english()\n",
    "ios_eng_only = ios_ins.remove_non_english()\n",
    "and_free = android_ins.remove_not_free()\n",
    "ios_free = ios_ins.remove_not_free(False)\n",
    "vars_list = [[android, and_dupe_apps, and_unique, and_eng_only, and_free], [ios, ios_dupe_apps, ios_unique, ios_eng_only, ios_free]]"
   ]
  },
  {
   "cell_type": "code",
   "execution_count": 407,
   "metadata": {},
   "outputs": [
    {
     "name": "stdout",
     "output_type": "stream",
     "text": [
      "android operations: \n",
      "\n",
      "Total number of apps:\t\t\t\t10840\n",
      "Number of total duplicates removed: \t\t1181\n",
      "Some duplicate app names: \t\t\t['Quick PDF Scanner + OCR FREE', 'Box', 'Google My Business']\n",
      "Number of unique apps:\t\t\t\t9659 \n",
      "Number of English-only apps: \t\t\t9117\n",
      "Number of free apps: \t\t\t\t8405\n",
      "\n",
      "ios operations: \n",
      "\n",
      "Total number of apps:\t\t\t\t7197\n",
      "Number of total duplicates removed: \t\t0\n",
      "Some duplicate app names: \t\t\t[]\n",
      "Number of unique apps:\t\t\t\t7197 \n",
      "Number of English-only apps: \t\t\t7197\n",
      "Number of free apps: \t\t\t\t4056\n",
      "\n"
     ]
    }
   ],
   "source": [
    "dataset_strings = ('android', 'ios')\n",
    "for i in range(2):\n",
    "    print (\"{} operations: \\n\".format(dataset_strings[i]))\n",
    "    print (\"Total number of apps:\\t\\t\\t\\t{}\".format(len(vars_list[i][0])))\n",
    "    print (\"Number of total duplicates removed: \\t\\t{}\".format(len(vars_list[i][1])))\n",
    "    print (\"Some duplicate app names: \\t\\t\\t{}\".format(vars_list[i][1][:3]))\n",
    "    print (\"Number of unique apps:\\t\\t\\t\\t{} \".format(len(vars_list[i][2])))\n",
    "    print (\"Number of English-only apps: \\t\\t\\t{}\".format(len(vars_list[i][3])))\n",
    "    print (\"Number of free apps: \\t\\t\\t\\t{}\\n\".format(len(vars_list[i][4])))\n",
    "\n"
   ]
  },
  {
   "cell_type": "markdown",
   "metadata": {},
   "source": [
    "#### Data Cleaning: \n",
    "\n",
    "From the results of the cleaning up of the data, it seems about 10% of the android data had duplicates, about 5% apps were in other foreign languages and about 5% of the apps charged some kind of a fee. \n",
    "\n",
    "On the other hand, the ios dataset did not have any duplicates and it did not have any non-English apps either. However, a huge percentage of the apps charged a fee, almost 44% of the apps. So our dataset has shrunk from a little over 7000 apps to 4056 apps. \n"
   ]
  },
  {
   "cell_type": "code",
   "execution_count": null,
   "metadata": {},
   "outputs": [],
   "source": []
  }
 ],
 "metadata": {
  "kernelspec": {
   "display_name": "Python 3",
   "language": "python",
   "name": "python3"
  },
  "language_info": {
   "codemirror_mode": {
    "name": "ipython",
    "version": 3
   },
   "file_extension": ".py",
   "mimetype": "text/x-python",
   "name": "python",
   "nbconvert_exporter": "python",
   "pygments_lexer": "ipython3",
   "version": "3.7.4"
  }
 },
 "nbformat": 4,
 "nbformat_minor": 2
}
